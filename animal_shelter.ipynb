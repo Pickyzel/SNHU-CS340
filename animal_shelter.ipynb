{
 "cells": [
  {
   "cell_type": "code",
   "execution_count": 1,
   "id": "e49e97fc",
   "metadata": {},
   "outputs": [],
   "source": [
    "from animal_shelter import AnimalShelter"
   ]
  },
  {
   "cell_type": "code",
   "execution_count": 2,
   "id": "98e3d158",
   "metadata": {},
   "outputs": [],
   "source": [
    "animals = AnimalShelter()"
   ]
  },
  {
   "cell_type": "code",
   "execution_count": 3,
   "id": "33205a84",
   "metadata": {},
   "outputs": [],
   "source": [
    "data = {'age_upon_outcome':'3 years',\n",
    "       'animal_id':'A999999',\n",
    "       'animal_type':'Dog',\n",
    "       'breed':'Corgi',\n",
    "       'color':'Brown and White',\n",
    "       'date_of_birth':'2020-10-10',\n",
    "       'datetime':'2020-10-11 09:00:00',\n",
    "       'monthyear':'2020-10-11T09:00:00',\n",
    "       'name':'Cynders',\n",
    "       'outcome_subtype':'',\n",
    "       'outcome_type':'Transfer',\n",
    "       'sex_upon_outcome':'Neutered Male',\n",
    "       'location_lat':'30.5066578739455',\n",
    "       'location_long':'-97.3408780722188',\n",
    "       'age_upon_outcome_in_weeks':'156.767857142857'}"
   ]
  },
  {
   "cell_type": "code",
   "execution_count": 4,
   "id": "dec7689a",
   "metadata": {},
   "outputs": [
    {
     "name": "stdout",
     "output_type": "stream",
     "text": [
      "True\n"
     ]
    }
   ],
   "source": [
    "print(animals.create(data))"
   ]
  },
  {
   "cell_type": "code",
   "execution_count": 5,
   "id": "49144dbc",
   "metadata": {},
   "outputs": [
    {
     "ename": "Exception",
     "evalue": "Nothing to save, because data parameter is empty",
     "output_type": "error",
     "traceback": [
      "\u001b[0;31m---------------------------------------------------------------------------\u001b[0m",
      "\u001b[0;31mException\u001b[0m                                 Traceback (most recent call last)",
      "Input \u001b[0;32mIn [5]\u001b[0m, in \u001b[0;36m<cell line: 1>\u001b[0;34m()\u001b[0m\n\u001b[0;32m----> 1\u001b[0m \u001b[38;5;28mprint\u001b[39m(\u001b[43manimals\u001b[49m\u001b[38;5;241;43m.\u001b[39;49m\u001b[43mcreate\u001b[49m\u001b[43m(\u001b[49m\u001b[38;5;28;43;01mNone\u001b[39;49;00m\u001b[43m)\u001b[49m)\n",
      "File \u001b[0;32m~/Desktop/Project/animal_shelter.py:40\u001b[0m, in \u001b[0;36mAnimalShelter.create\u001b[0;34m(self, data)\u001b[0m\n\u001b[1;32m     38\u001b[0m         \u001b[38;5;28;01mreturn\u001b[39;00m \u001b[38;5;28;01mFalse\u001b[39;00m\n\u001b[1;32m     39\u001b[0m \u001b[38;5;28;01melse\u001b[39;00m:\n\u001b[0;32m---> 40\u001b[0m     \u001b[38;5;28;01mraise\u001b[39;00m \u001b[38;5;167;01mException\u001b[39;00m(\u001b[38;5;124m\"\u001b[39m\u001b[38;5;124mNothing to save, because data parameter is empty\u001b[39m\u001b[38;5;124m\"\u001b[39m)\n",
      "\u001b[0;31mException\u001b[0m: Nothing to save, because data parameter is empty"
     ]
    }
   ],
   "source": [
    "print(animals.create(None))"
   ]
  },
  {
   "cell_type": "code",
   "execution_count": null,
   "id": "b6ebe589",
   "metadata": {},
   "outputs": [],
   "source": [
    "print(animals.create(data))"
   ]
  },
  {
   "cell_type": "code",
   "execution_count": 6,
   "id": "8cb16149",
   "metadata": {
    "scrolled": true
   },
   "outputs": [
    {
     "name": "stdout",
     "output_type": "stream",
     "text": [
      "[{'_id': ObjectId('660f337f942ec48ec0ecf0a6'), 'age_upon_outcome': '3 years', 'animal_id': 'A999999', 'animal_type': 'Dog', 'breed': 'Corgi', 'color': 'Brown and White', 'date_of_birth': '2020-10-10', 'datetime': '2020-10-11 09:00:00', 'monthyear': '2020-10-11T09:00:00', 'name': 'Cynders', 'outcome_subtype': '', 'outcome_type': 'Transfer', 'sex_upon_outcome': 'Neutered Male', 'location_lat': '30.5066578739455', 'location_long': '-97.3408780722188', 'age_upon_outcome_in_weeks': '156.767857142857'}]\n"
     ]
    }
   ],
   "source": [
    "print(list(animals.read({'name': \"Cynders\"})))"
   ]
  },
  {
   "cell_type": "code",
   "execution_count": 7,
   "id": "8cf5c05d",
   "metadata": {},
   "outputs": [
    {
     "name": "stdout",
     "output_type": "stream",
     "text": [
      "[]\n"
     ]
    }
   ],
   "source": [
    "print(list(animals.read({'name': \"Cynderella\"})))"
   ]
  },
  {
   "cell_type": "code",
   "execution_count": 8,
   "id": "cc748f2f",
   "metadata": {},
   "outputs": [
    {
     "ename": "Exception",
     "evalue": "Nothing to save, because data parameter is empty",
     "output_type": "error",
     "traceback": [
      "\u001b[0;31m---------------------------------------------------------------------------\u001b[0m",
      "\u001b[0;31mException\u001b[0m                                 Traceback (most recent call last)",
      "Input \u001b[0;32mIn [8]\u001b[0m, in \u001b[0;36m<cell line: 1>\u001b[0;34m()\u001b[0m\n\u001b[0;32m----> 1\u001b[0m \u001b[38;5;28mprint\u001b[39m(\u001b[38;5;28mlist\u001b[39m(\u001b[43manimals\u001b[49m\u001b[38;5;241;43m.\u001b[39;49m\u001b[43mread\u001b[49m\u001b[43m(\u001b[49m\u001b[38;5;28;43;01mNone\u001b[39;49;00m\u001b[43m)\u001b[49m))\n",
      "File \u001b[0;32m~/Desktop/Project/animal_shelter.py:47\u001b[0m, in \u001b[0;36mAnimalShelter.read\u001b[0;34m(self, data)\u001b[0m\n\u001b[1;32m     45\u001b[0m     findData \u001b[38;5;241m=\u001b[39m \u001b[38;5;28mself\u001b[39m\u001b[38;5;241m.\u001b[39mdatabase\u001b[38;5;241m.\u001b[39manimals\u001b[38;5;241m.\u001b[39mfind(data)\n\u001b[1;32m     46\u001b[0m \u001b[38;5;28;01melse\u001b[39;00m:\n\u001b[0;32m---> 47\u001b[0m     \u001b[38;5;28;01mraise\u001b[39;00m \u001b[38;5;167;01mException\u001b[39;00m(\u001b[38;5;124m\"\u001b[39m\u001b[38;5;124mNothing to save, because data parameter is empty\u001b[39m\u001b[38;5;124m\"\u001b[39m)\n\u001b[1;32m     48\u001b[0m \u001b[38;5;28;01mreturn\u001b[39;00m findData\n",
      "\u001b[0;31mException\u001b[0m: Nothing to save, because data parameter is empty"
     ]
    }
   ],
   "source": [
    "print(list(animals.read(None)))"
   ]
  },
  {
   "cell_type": "code",
   "execution_count": 9,
   "id": "26dfef33",
   "metadata": {
    "scrolled": true
   },
   "outputs": [
    {
     "name": "stdout",
     "output_type": "stream",
     "text": [
      "1\n"
     ]
    }
   ],
   "source": [
    "print(animals.update({'name': \"Cynders\"}, {'name': \"Munchkin\"}))"
   ]
  },
  {
   "cell_type": "code",
   "execution_count": 10,
   "id": "0708306c",
   "metadata": {},
   "outputs": [
    {
     "name": "stdout",
     "output_type": "stream",
     "text": [
      "[{'_id': ObjectId('660c8bd9b82b3ebeb1fe09f7'), 'age_upon_outcome': '3 years', 'animal_id': 'A999999', 'animal_type': 'Dog', 'breed': 'Corgi', 'color': 'Brown and White', 'date_of_birth': '2020-10-10', 'datetime': '2020-10-11 09:00:00', 'monthyear': '2020-10-11T09:00:00', 'name': 'Munchkin', 'outcome_subtype': '', 'outcome_type': 'Transfer', 'sex_upon_outcome': 'Neutered Male', 'location_lat': '30.5066578739455', 'location_long': '-97.3408780722188', 'age_upon_outcome_in_weeks': '156.767857142857'}, {'_id': ObjectId('660c8cef4f59c8ec20d6463d'), 'age_upon_outcome': '3 years', 'animal_id': 'A999999', 'animal_type': 'Dog', 'breed': 'Corgi', 'color': 'Brown and White', 'date_of_birth': '2020-10-10', 'datetime': '2020-10-11 09:00:00', 'monthyear': '2020-10-11T09:00:00', 'name': 'Munchkin', 'outcome_subtype': '', 'outcome_type': 'Transfer', 'sex_upon_outcome': 'Neutered Male', 'location_lat': '30.5066578739455', 'location_long': '-97.3408780722188', 'age_upon_outcome_in_weeks': '156.767857142857'}, {'_id': ObjectId('660c8d100c9491876ccb4e3b'), 'age_upon_outcome': '3 years', 'animal_id': 'A999999', 'animal_type': 'Dog', 'breed': 'Corgi', 'color': 'Brown and White', 'date_of_birth': '2020-10-10', 'datetime': '2020-10-11 09:00:00', 'monthyear': '2020-10-11T09:00:00', 'name': 'Munchkin', 'outcome_subtype': '', 'outcome_type': 'Transfer', 'sex_upon_outcome': 'Neutered Male', 'location_lat': '30.5066578739455', 'location_long': '-97.3408780722188', 'age_upon_outcome_in_weeks': '156.767857142857'}, {'_id': ObjectId('660f337f942ec48ec0ecf0a6'), 'age_upon_outcome': '3 years', 'animal_id': 'A999999', 'animal_type': 'Dog', 'breed': 'Corgi', 'color': 'Brown and White', 'date_of_birth': '2020-10-10', 'datetime': '2020-10-11 09:00:00', 'monthyear': '2020-10-11T09:00:00', 'name': 'Munchkin', 'outcome_subtype': '', 'outcome_type': 'Transfer', 'sex_upon_outcome': 'Neutered Male', 'location_lat': '30.5066578739455', 'location_long': '-97.3408780722188', 'age_upon_outcome_in_weeks': '156.767857142857'}]\n"
     ]
    }
   ],
   "source": [
    "print(list(animals.read({'name': \"Munchkin\"})))"
   ]
  },
  {
   "cell_type": "code",
   "execution_count": 12,
   "id": "def61948",
   "metadata": {},
   "outputs": [
    {
     "ename": "Exception",
     "evalue": "Nothing to save, because data parameter is empty",
     "output_type": "error",
     "traceback": [
      "\u001b[0;31m---------------------------------------------------------------------------\u001b[0m",
      "\u001b[0;31mException\u001b[0m                                 Traceback (most recent call last)",
      "Input \u001b[0;32mIn [12]\u001b[0m, in \u001b[0;36m<cell line: 1>\u001b[0;34m()\u001b[0m\n\u001b[0;32m----> 1\u001b[0m \u001b[38;5;28mprint\u001b[39m(\u001b[43manimals\u001b[49m\u001b[38;5;241;43m.\u001b[39;49m\u001b[43mupdate\u001b[49m\u001b[43m(\u001b[49m\u001b[43m{\u001b[49m\u001b[38;5;124;43m'\u001b[39;49m\u001b[38;5;124;43mname\u001b[39;49m\u001b[38;5;124;43m'\u001b[39;49m\u001b[43m:\u001b[49m\u001b[43m \u001b[49m\u001b[38;5;124;43m\"\u001b[39;49m\u001b[38;5;124;43mCinders\u001b[39;49m\u001b[38;5;124;43m\"\u001b[39;49m\u001b[43m}\u001b[49m\u001b[43m,\u001b[49m\u001b[43m \u001b[49m\u001b[38;5;28;43;01mNone\u001b[39;49;00m\u001b[43m)\u001b[49m)\n",
      "File \u001b[0;32m~/Project/animal_shelter.py:56\u001b[0m, in \u001b[0;36mAnimalShelter.update\u001b[0;34m(self, read, data)\u001b[0m\n\u001b[1;32m     54\u001b[0m     \u001b[38;5;28;01mreturn\u001b[39;00m updateData\u001b[38;5;241m.\u001b[39mmodified_count\n\u001b[1;32m     55\u001b[0m \u001b[38;5;28;01melse\u001b[39;00m:\n\u001b[0;32m---> 56\u001b[0m     \u001b[38;5;28;01mraise\u001b[39;00m \u001b[38;5;167;01mException\u001b[39;00m(\u001b[38;5;124m\"\u001b[39m\u001b[38;5;124mNothing to save, because data parameter is empty\u001b[39m\u001b[38;5;124m\"\u001b[39m)\n",
      "\u001b[0;31mException\u001b[0m: Nothing to save, because data parameter is empty"
     ]
    }
   ],
   "source": [
    "print(animals.update({'name': \"Cinders\"}, None))"
   ]
  },
  {
   "cell_type": "code",
   "execution_count": 13,
   "id": "416f227e",
   "metadata": {},
   "outputs": [
    {
     "name": "stdout",
     "output_type": "stream",
     "text": [
      "3784\n"
     ]
    }
   ],
   "source": [
    "print(animals.delete({'animal_type': \"Cat\"}))"
   ]
  },
  {
   "cell_type": "code",
   "execution_count": 14,
   "id": "b6952e36",
   "metadata": {},
   "outputs": [
    {
     "ename": "Exception",
     "evalue": "Nothing to save, because data parameter is empty",
     "output_type": "error",
     "traceback": [
      "\u001b[0;31m---------------------------------------------------------------------------\u001b[0m",
      "\u001b[0;31mException\u001b[0m                                 Traceback (most recent call last)",
      "Input \u001b[0;32mIn [14]\u001b[0m, in \u001b[0;36m<cell line: 1>\u001b[0;34m()\u001b[0m\n\u001b[0;32m----> 1\u001b[0m \u001b[38;5;28mprint\u001b[39m(\u001b[43manimals\u001b[49m\u001b[38;5;241;43m.\u001b[39;49m\u001b[43mdelete\u001b[49m\u001b[43m(\u001b[49m\u001b[38;5;28;43;01mNone\u001b[39;49;00m\u001b[43m)\u001b[49m)\n",
      "File \u001b[0;32m~/Project/animal_shelter.py:64\u001b[0m, in \u001b[0;36mAnimalShelter.delete\u001b[0;34m(self, data)\u001b[0m\n\u001b[1;32m     62\u001b[0m     \u001b[38;5;28;01mreturn\u001b[39;00m deletedData\u001b[38;5;241m.\u001b[39mdeleted_count\n\u001b[1;32m     63\u001b[0m \u001b[38;5;28;01melse\u001b[39;00m:\n\u001b[0;32m---> 64\u001b[0m     \u001b[38;5;28;01mraise\u001b[39;00m \u001b[38;5;167;01mException\u001b[39;00m(\u001b[38;5;124m\"\u001b[39m\u001b[38;5;124mNothing to save, because data parameter is empty\u001b[39m\u001b[38;5;124m\"\u001b[39m)\n",
      "\u001b[0;31mException\u001b[0m: Nothing to save, because data parameter is empty"
     ]
    }
   ],
   "source": [
    "print(animals.delete(None))"
   ]
  },
  {
   "cell_type": "code",
   "execution_count": 15,
   "id": "9891840c",
   "metadata": {},
   "outputs": [
    {
     "name": "stdout",
     "output_type": "stream",
     "text": [
      "0\n"
     ]
    }
   ],
   "source": [
    "print(animals.delete({'animal_type': \"Cat\"}))"
   ]
  },
  {
   "cell_type": "code",
   "execution_count": null,
   "id": "797b5a7f",
   "metadata": {},
   "outputs": [],
   "source": []
  }
 ],
 "metadata": {
  "kernelspec": {
   "display_name": "Python 3 (ipykernel)",
   "language": "python",
   "name": "python3"
  },
  "language_info": {
   "codemirror_mode": {
    "name": "ipython",
    "version": 3
   },
   "file_extension": ".py",
   "mimetype": "text/x-python",
   "name": "python",
   "nbconvert_exporter": "python",
   "pygments_lexer": "ipython3",
   "version": "3.9.12"
  }
 },
 "nbformat": 4,
 "nbformat_minor": 5
}
